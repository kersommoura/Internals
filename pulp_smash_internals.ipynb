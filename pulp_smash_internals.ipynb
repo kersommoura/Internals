{
 "cells": [
  {
   "cell_type": "markdown",
   "metadata": {},
   "source": [
    "# Pulp-Smash Internals"
   ]
  },
  {
   "cell_type": "markdown",
   "metadata": {},
   "source": [
    "### Why?\n",
    "\n",
    "Get familiar with Pulp-Smash, and get to know how Pulp is tested. "
   ]
  },
  {
   "cell_type": "markdown",
   "metadata": {},
   "source": [
    "## Using Jupyter Notebook\n",
    "\n",
    "You can also follow along using a **Jupyter Notebook**.  Assuming you are bringing your own Pulp machine. \n",
    "\n",
    "\n",
    "``` shell\n",
    "python3 -m venv pulp-smash-internals\n",
    "source ~/pulp-smash-internals/bin/activate\n",
    "pip install pulp-smash\n",
    "pip install jupyter\n",
    "# Create settings related to the system to be tested\n",
    "pulp-smash settings create\n",
    "mkdir code && cd code\n",
    "git clone https://github.com/kersommoura/Internals.git\n",
    "cd Internals\n",
    "jupyter notebook\n",
    "\n",
    "```"
   ]
  },
  {
   "cell_type": "markdown",
   "metadata": {},
   "source": [
    "### What is Pulp?\n",
    "\n",
    "Pulp is a platform for managing repositories of software packages and making it available to a large numbers of consumers. Pulp can locally mirror all or part of a repository, host your own software packages in repositories, and manage many types of content from multiple sources in one place.\n",
    "\n",
    "https://pulpproject.org/"
   ]
  },
  {
   "cell_type": "markdown",
   "metadata": {},
   "source": [
    "### Pulp Versions\n",
    "\n",
    "There are currently 2 versions of Pulp being tested by Pulp-Smash.\n",
    "\n",
    "* **Pulp2** - As of this writing 2.15.1 is the stable release.\n",
    "\n",
    "    [Pulp 2 Releases](https://pulp.plan.io/projects/pulp/wiki/Release_Schedule#Past-Releases)\n",
    "\n",
    "\n",
    "* **Pulp3** - Under development - Release Alpha."
   ]
  },
  {
   "cell_type": "markdown",
   "metadata": {},
   "source": [
    "### What is Pulp-Smash?\n",
    "\n",
    "Pulp-Smash is functional test suite written in Python, to help test Pulp Project. Pulp-Smash is currently used to test Pulp2, and Pulp3. \n",
    "\n",
    "Most of the new tests are for Pulp 3.\n",
    "\n",
    "\n",
    "Smash will decide which tests to run based on several factors, including its configuration file and the state of issues on the Pulp issue tracker."
   ]
  },
  {
   "cell_type": "markdown",
   "metadata": {},
   "source": [
    "###  Types of Test\n",
    "\n",
    "Definitions per **ISTQB**\n",
    "\n",
    "Unit Testing or Component Testing\n",
    "\n",
    "> A minimal software item that can be tested in isolation. This activity typically belongs to developers.\n",
    "\n",
    "Functional Testing\n",
    "\n",
    "> Basically the testing of the functions of component or system is done. It refers to activities that verify a specific action or function of the code. Functional test tends to answer the questions like “can the user do this” or “does this particular feature work”. This is typically described in a requirements specification or in a functional specification.\n"
   ]
  },
  {
   "cell_type": "markdown",
   "metadata": {},
   "source": [
    "### Installing Pulp-Smash \n",
    "\n",
    "There are 2 main possible ways to install pulp-smash: as a **user** and a **dev**.\n",
    "\n",
    "Both options will be covered in this walkthrough.\n",
    "\n",
    "Resources:\n",
    "\n",
    "* https://github.com/PulpQE/pulp-smash\n",
    "* https://pypi.python.org/pypi/pulp-smash\n",
    "* https://pulp-smash.readthedocs.io/"
   ]
  },
  {
   "cell_type": "markdown",
   "metadata": {},
   "source": [
    "### Installing Pulp-Smash as a User\n",
    "\n",
    "Pulp-Smash supports Python 3.4, 3.5 and 3.6 version.\n",
    "\n",
    "It is suggested the use of a virutalenv to create a sandbox.\n",
    "\n",
    "``` bash\n",
    "python3 -m venv ps_env\n",
    "source ~/.ps_env/bin/activate\n",
    "pip install pulp-smash\n",
    "```\n",
    "\n",
    "After the installation, there is a need to create a configuration file, this configuration file will held all the need information that Pulp-Smash needs to talk with Pulp.\n",
    "Parameters such as: Pulp version, hostname, if Pulp is available over HTTPS, and so on."
   ]
  },
  {
   "cell_type": "markdown",
   "metadata": {},
   "source": [
    "### How to create Pulp-Smash settings\n",
    "\n",
    "``` bash\n",
    " pulp-smash settings create\n",
    "```\n",
    "```\n",
    "pulp-smash settings create\n",
    "A settings file already exists. Continuing will override it.\n",
    "Do you want to continue? [y/N]: y\n",
    "Pulp admin username [admin]: admin\n",
    "Pulp admin password [admin]: admin\n",
    "Pulp version: 2.15.1\n",
    "System hostname: r74-p215\n",
    "Is Pulp's API available over HTTPS (no for HTTP)? [Y/n]: y\n",
    "Verify HTTPS? [Y/n]: n\n",
    "By default, Pulp Smash will communicate with Pulp's API on the port number implied by the scheme. For example, if Pulp's API is available over HTTPS, then Pulp Smash will communicate on port 443.If Pulp's API is avaialable on a non-standard port, like 8000, then Pulp Smash needs to know about that.\n",
    "Pulp API port number [0]: 0\n",
    "Is Pulp's message broker Qpid (no for RabbitMQ)? [Y/n]: y\n",
    "Are you running Pulp Smash on the Pulp system? [y/N]: n\n",
    "Pulp Smash will be configured to access the Pulp system using SSH. Because of that, some additional information is required.\n",
    "SSH username to use [root]: root\n",
    "Ensure ~/.ssh/controlmasters/ exists, and ensure the following is present in your ~/.ssh/config file:\n",
    "\n",
    "  Host r74-p215\n",
    "      StrictHostKeyChecking no\n",
    "      User root\n",
    "      UserKnownHostsFile /dev/null\n",
    "      ControlMaster auto\n",
    "      ControlPersist 10m\n",
    "      ControlPath ~/.ssh/controlmasters/%C\n",
    "\n",
    "Creating the settings file at /home/kersom/.config/pulp_smash/settings.json...\n",
    "Settings file created, run `pulp-smash settings show` to show its contents.\n",
    "```"
   ]
  },
  {
   "cell_type": "markdown",
   "metadata": {},
   "source": [
    "### Example of Pulp-Smash settings\n",
    "\n",
    "``` bash\n",
    "pulp-smash settings show\n",
    "\n",
    "```\n",
    "\n",
    "``` json\n",
    "{\n",
    "  \"pulp\": {\n",
    "    \"auth\": [\n",
    "      \"admin\",\n",
    "      \"admin\"\n",
    "    ],\n",
    "    \"version\": \"2.15.1\"\n",
    "  },\n",
    "  \"systems\": [\n",
    "    {\n",
    "      \"hostname\": \"r74-p215\",\n",
    "      \"roles\": {\n",
    "        \"amqp broker\": {\n",
    "          \"service\": \"qpidd\"\n",
    "        },\n",
    "        \"api\": {\n",
    "          \"scheme\": \"https\",\n",
    "          \"verify\": false\n",
    "        },\n",
    "        \"mongod\": {},\n",
    "        \"pulp celerybeat\": {},\n",
    "        \"pulp cli\": {},\n",
    "        \"pulp resource manager\": {},\n",
    "        \"pulp workers\": {},\n",
    "        \"shell\": {\n",
    "          \"transport\": \"ssh\"\n",
    "        },\n",
    "        \"squid\": {}\n",
    "      }\n",
    "    }\n",
    "  ]\n",
    "}\n",
    "\n",
    "```"
   ]
  },
  {
   "cell_type": "markdown",
   "metadata": {},
   "source": [
    "### Note\n",
    "\n",
    "The configuration (via `pulp-smash settings create`) is  important. But that comes after installing. And the instructions are the same regardless of how Smash is installed - user or dev.\n",
    "\n",
    "Settings file is split into a **pulp** and **systems** section because Pulp can be installed across separate hosts. The application-wide settings are placed into the **pulp** section, and the per-host settings are placed into the **systems** section. We don't currently perform multi-host testing of Pulp, but Smash is designed with this use case in mind, and this is one example of that.\n",
    "\n",
    "Perhaps a more precise definition of **systems** section is to think as **hosts**.\n"
   ]
  },
  {
   "cell_type": "markdown",
   "metadata": {},
   "source": [
    "### Good to know\n",
    "\n",
    "In the simplest case, Pulp Smash's configuration file resides at\n",
    "    ``~/.config/pulp_smash/settings.json``. However, there are several ways to\n",
    "    alter this path. Pulp Smash obeys the `XDG Base Directory Specification`_.\n",
    "    In addition, Pulp Smash responds to the ``PULP_SMASH_CONFIG_FILE``\n",
    "    environment variable. This variable is a relative path, and it defaults to\n",
    "    ``settings.json``.\n"
   ]
  },
  {
   "cell_type": "markdown",
   "metadata": {},
   "source": [
    "### Running your first test"
   ]
  },
  {
   "cell_type": "code",
   "execution_count": 2,
   "metadata": {
    "scrolled": true
   },
   "outputs": [
    {
     "name": "stdout",
     "output_type": "stream",
     "text": [
      "s\r\n",
      "----------------------------------------------------------------------\r\n",
      "Ran 0 tests in 0.000s\r\n",
      "\r\n",
      "OK (skipped=1)\r\n"
     ]
    }
   ],
   "source": [
    "!python -m unittest pulp_smash.tests.pulp2.platform.api_v2.test_login"
   ]
  },
  {
   "cell_type": "markdown",
   "metadata": {},
   "source": [
    "**Warning Explanation**\n",
    "\n",
    "If the configuration file states that HTTPS connections should not be verified, then InsecureRequestWarnings will be emitted. Smash is smart enough to suppress these warnings. But the unittest test runner overrides Smash and causes all warnings to be emitted anyway.\n",
    "\n",
    "\n",
    "[Warning](https://github.com/PulpQE/pulp-smash/blob/2c5445972ff8c13cf32632f58b10b787ce2239cd/pulp_smash/tests/__init__.py#L43)\n"
   ]
  },
  {
   "cell_type": "markdown",
   "metadata": {},
   "source": [
    "### Running all the tests "
   ]
  },
  {
   "cell_type": "markdown",
   "metadata": {},
   "source": [
    "All tests can be run by the following command. This action can take a while.\n",
    "\n",
    "``` bash\n",
    "    python -m unittest discover pulp_smash.tests\n",
    "```\n"
   ]
  },
  {
   "cell_type": "markdown",
   "metadata": {},
   "source": [
    "### Installing Pulp-Smash in Development Mode\n",
    "\n",
    "In development mode changes to code are reflected in the working enviroment.\n",
    "\n",
    "\n",
    "``` bash\n",
    "git clone https://github.com/PulpQE/pulp-smash.git\n",
    "cd pulp-smash\n",
    "pip install --editable .[dev]\n",
    "```"
   ]
  },
  {
   "cell_type": "markdown",
   "metadata": {},
   "source": [
    "### Pulp-Fixtures\n",
    "\n",
    "Test environment and repeatability.\n",
    "\n",
    "https://github.com/PulpQE/pulp-fixtures\n"
   ]
  },
  {
   "cell_type": "markdown",
   "metadata": {},
   "source": [
    "###  3 Main Components to be explained\n",
    "\n",
    "\n",
    "Here are the three most important classes that you will encounter as a test\n",
    "writer:\n",
    "\n",
    "\n",
    "\n",
    "  **pulp_smash.config.PulpSmashConfig**\n",
    "\n",
    " This object stores information about Pulp application and its constituent\n",
    " hosts.\n",
    " A single Pulp application may have its services spread across several hosts. For example, one host might run Qpid, another might run MongoDB, and so on. Here's how to model a multi-host deployment where Apache runs on one host, and the remaining components run on another .\n",
    "\n",
    "  **pulp_smash.cli.Client**\n",
    "\n",
    " This class provides the ability to execute shell commands on either the\n",
    " local host or a remote host. This class provides the ability to execute shell commands on either the local host or a remote host.\n",
    " \n",
    " **pulp_smash.api.Client**\n",
    "\n",
    " A convenience object for working with an API. This class is a wrapper around the `requests.api` module provided by `Requests`.\n"
   ]
  },
  {
   "cell_type": "markdown",
   "metadata": {},
   "source": [
    "### Interact with Pulp using Pulp-Smash\n",
    "\n",
    "Pulp-Smash has 2 main possible ways to interact with Pulp. Using CLI, either REST API.\n",
    "\n",
    "There is a client for each of these cases."
   ]
  },
  {
   "cell_type": "code",
   "execution_count": 5,
   "metadata": {},
   "outputs": [],
   "source": [
    "from pulp_smash.config import PulpSmashConfig"
   ]
  },
  {
   "cell_type": "code",
   "execution_count": 6,
   "metadata": {},
   "outputs": [
    {
     "data": {
      "text/plain": [
       "PulpSmashConfig(pulp_auth=None, pulp_version='None', systems=[])"
      ]
     },
     "execution_count": 6,
     "metadata": {},
     "output_type": "execute_result"
    }
   ],
   "source": [
    "PulpSmashConfig()"
   ]
  },
  {
   "cell_type": "markdown",
   "metadata": {},
   "source": [
    "### Good to know\n",
    "\n",
    "1. Instances of PulpSmashConfig() are structured similarly to the config file that is created using **pulp-smash settings create** .\n",
    "2. pulp_auth and pulp_version correspond to the **pulp** section, and systems corresponds to the **systems** section\n",
    "3. Some of the differences between the JSON file and this class are worth pointing out. For example, the cfg.pulp_version attribute is a **Version** object, *not* a string.\n",
    "4. A useful method **get_systems()** for multi-hosts testing.\n",
    "\n",
    "```python\n",
    "\n",
    "    def get_systems(self, role):\n",
    "        \"\"\"Return a list of hosts fulfilling the given role.\n",
    "        :param role: The role to filter the available hosts, see\n",
    "            `pulp_smash.config.ROLES` for more information.\n",
    "        \"\"\"\n",
    "        if role not in ROLES:\n",
    "            raise ValueError(\n",
    "                'The given role, {}, is not recognized. Valid roles are: {}'\n",
    "                .format(role, ROLES)\n",
    "            )\n",
    "    return [system for system in self.systems if role in system.roles]\n",
    "\n",
    "    \n",
    "```\n",
    "\n",
    "\n",
    "\n"
   ]
  },
  {
   "cell_type": "code",
   "execution_count": 3,
   "metadata": {
    "slideshow": {
     "slide_type": "subslide"
    }
   },
   "outputs": [],
   "source": [
    "from pulp_smash.config import get_config"
   ]
  },
  {
   "cell_type": "markdown",
   "metadata": {},
   "source": [
    "``` python\n",
    "def get_config():\n",
    "    \"\"\"Return a copy of the global ``PulpSmashConfig`` object.\n",
    "    This method makes use of a cache. If the cache is empty, the configuration\n",
    "    file is parsed and the cache is populated. Otherwise, a copy of the cached\n",
    "    configuration object is returned.\n",
    "    :returns: A copy of the global server configuration object.\n",
    "    :rtype: pulp_smash.config.PulpSmashConfig\n",
    "    \"\"\"\n",
    "    global _CONFIG  # pylint:disable=global-statement\n",
    "    if _CONFIG is None:\n",
    "        _CONFIG = PulpSmashConfig().read()\n",
    "return deepcopy(_CONFIG)\n",
    "\n",
    "```"
   ]
  },
  {
   "cell_type": "code",
   "execution_count": 9,
   "metadata": {},
   "outputs": [],
   "source": [
    "cfg = get_config()"
   ]
  },
  {
   "cell_type": "code",
   "execution_count": 10,
   "metadata": {
    "scrolled": true
   },
   "outputs": [
    {
     "data": {
      "text/plain": [
       "PulpSmashConfig(pulp_auth=['admin', 'admin'], pulp_version='2.15.1', systems=[PulpSystem(hostname='r74-p215', roles={'amqp broker': {'service': 'qpidd'}, 'api': {'scheme': 'https', 'verify': False}, 'mongod': {}, 'pulp celerybeat': {}, 'pulp cli': {}, 'pulp resource manager': {}, 'pulp workers': {}, 'shell': {'transport': 'ssh'}, 'squid': {}})])"
      ]
     },
     "execution_count": 10,
     "metadata": {},
     "output_type": "execute_result"
    }
   ],
   "source": [
    "cfg"
   ]
  },
  {
   "cell_type": "markdown",
   "metadata": {},
   "source": [
    "## Client API\n",
    "\n",
    "Working with an API can require repetitive calls to perform actions like check HTTP status codes.\n",
    "In addition, Pulp's API has specific quirks surrounding its handling of href paths and HTTP 202 status codes. \n",
    "This module provides a customizable client that makes it easier to work with the API in a safe and concise manner.\n",
    "\n",
    "As mentioned before this class is a wrapped around the `requests.api` module provided by `Requests`. Each of the functions from that moudule are exposed as methods here, and each of the arguments accepted by Requests functions are also accepted by these methods. "
   ]
  },
  {
   "cell_type": "code",
   "execution_count": 11,
   "metadata": {},
   "outputs": [],
   "source": [
    "from pulp_smash.api import Client"
   ]
  },
  {
   "cell_type": "code",
   "execution_count": 12,
   "metadata": {},
   "outputs": [
    {
     "data": {
      "text/plain": [
       "'https://r74-p215'"
      ]
     },
     "execution_count": 12,
     "metadata": {},
     "output_type": "execute_result"
    }
   ],
   "source": [
    "cfg.get_base_url()"
   ]
  },
  {
   "cell_type": "markdown",
   "metadata": {},
   "source": [
    "Worth to be mentioned that Client passes certain arguments by default.\n",
    "\n",
    "``` python\n",
    "        \"\"\"Initialize this object with needed instance attributes.\"\"\"\n",
    "        if not pulp_system:\n",
    "            pulp_system = server_config.get_systems('api')[0]\n",
    "        self.pulp_system = pulp_system\n",
    "        self._cfg = server_config\n",
    "        self.request_kwargs = self._cfg.get_requests_kwargs(pulp_system)\n",
    "        self.request_kwargs['url'] = self._cfg.get_base_url(pulp_system)\n",
    "        self.request_kwargs.update(\n",
    "            {} if request_kwargs is None else request_kwargs\n",
    "        )\n",
    "\n",
    "```"
   ]
  },
  {
   "cell_type": "code",
   "execution_count": 13,
   "metadata": {},
   "outputs": [],
   "source": [
    "client = Client(cfg)"
   ]
  },
  {
   "cell_type": "markdown",
   "metadata": {},
   "source": [
    "Anything accepted by the `Requests` functions may be placed in ``request_kwargs`` or passed in to a specific call. Example below."
   ]
  },
  {
   "cell_type": "markdown",
   "metadata": {},
   "source": [
    "``` python\n",
    "client.request_kwargs['url'] == 'https://example.com'\n",
    "client.request_kwargs['verify'] == '~/Documents/my.crt'\n",
    "```"
   ]
  },
  {
   "cell_type": "markdown",
   "metadata": {},
   "source": [
    "This possibility has been explored for Pulp3 tests, for instance.\n",
    "\n",
    "``` python\n",
    "client.request_kwargs['auth'] = get_auth()\n",
    "\n",
    "```\n",
    "\n"
   ]
  },
  {
   "cell_type": "code",
   "execution_count": 15,
   "metadata": {},
   "outputs": [
    {
     "name": "stderr",
     "output_type": "stream",
     "text": [
      "/home/kersom/environments/env/lib64/python3.6/site-packages/urllib3/connectionpool.py:858: InsecureRequestWarning: Unverified HTTPS request is being made. Adding certificate verification is strongly advised. See: https://urllib3.readthedocs.io/en/latest/advanced-usage.html#ssl-warnings\n",
      "  InsecureRequestWarning)\n"
     ]
    }
   ],
   "source": [
    "response = client.post('/pulp/api/v2/users/', {'login': 'pulp_user4'})\n",
    "# A new user has to be created every time"
   ]
  },
  {
   "cell_type": "code",
   "execution_count": 17,
   "metadata": {},
   "outputs": [
    {
     "data": {
      "text/plain": [
       "{'_href': '/pulp/api/v2/users/pulp_user4/',\n",
       " '_id': {'$oid': '5a8af4b6cc5d5e04529ad55a'},\n",
       " '_ns': 'users',\n",
       " 'id': '5a8af4b6cc5d5e04529ad55a',\n",
       " 'login': 'pulp_user4',\n",
       " 'name': 'pulp_user4',\n",
       " 'roles': []}"
      ]
     },
     "execution_count": 17,
     "metadata": {},
     "output_type": "execute_result"
    }
   ],
   "source": [
    "response.json()"
   ]
  },
  {
   "cell_type": "markdown",
   "metadata": {},
   "source": [
    "### Reponse Handlers\n",
    "\n",
    "Each **Client** object has a callback function, `response_handler`, that is given a chance to munge each server reponse.\n",
    "\n",
    "Pulp-Smash ships with several response handlers. See:\n",
    "\n",
    "    pulp_smash.api.code_handler\n",
    "    pulp_smash.api.echo_handler\n",
    "    pulp_smash.api.json_handler\n",
    "    pulp_smash.api.safe_handler\n",
    "    \n",
    "There are specific use cases for each of these. All response handlers verify if an exception **HTTPError** was raised, calling `raise_for_status`.\n",
    "\n",
    "Then when creating the client, the `response_handler` can be defined according to the necessity.\n",
    "\n",
    "Default : **safe_handler**\n"
   ]
  },
  {
   "cell_type": "code",
   "execution_count": 18,
   "metadata": {},
   "outputs": [],
   "source": [
    "from pulp_smash import api"
   ]
  },
  {
   "cell_type": "code",
   "execution_count": 19,
   "metadata": {},
   "outputs": [],
   "source": [
    "api_client = Client(cfg, api.json_handler)"
   ]
  },
  {
   "cell_type": "code",
   "execution_count": 20,
   "metadata": {},
   "outputs": [],
   "source": [
    "from pulp_smash.tests.pulp2.rpm.api_v2.utils import gen_repo\n",
    "from pulp_smash.constants import RPM_UNSIGNED_FEED_URL\n",
    "from pulp_smash.tests.pulp2.constants import REPOSITORY_PATH"
   ]
  },
  {
   "cell_type": "code",
   "execution_count": 21,
   "metadata": {},
   "outputs": [],
   "source": [
    "body = gen_repo()  \n",
    "body['importer_config']['feed'] = RPM_UNSIGNED_FEED_URL\n",
    "repo = api_client.post(REPOSITORY_PATH, body)"
   ]
  },
  {
   "cell_type": "code",
   "execution_count": 22,
   "metadata": {},
   "outputs": [],
   "source": [
    "repo = api_client.get(repo['_href'], params = {'details':True})"
   ]
  },
  {
   "cell_type": "code",
   "execution_count": 23,
   "metadata": {},
   "outputs": [
    {
     "data": {
      "text/plain": [
       "{'_href': '/pulp/api/v2/repositories/34713c16-827f-4d4b-a26c-04574ecce968/',\n",
       " '_id': {'$oid': '5a8af4cbcc5d5e04529ad55d'},\n",
       " '_ns': 'repos',\n",
       " 'content_unit_counts': {},\n",
       " 'description': None,\n",
       " 'display_name': '34713c16-827f-4d4b-a26c-04574ecce968',\n",
       " 'distributors': [],\n",
       " 'id': '34713c16-827f-4d4b-a26c-04574ecce968',\n",
       " 'importers': [{'_href': '/pulp/api/v2/repositories/34713c16-827f-4d4b-a26c-04574ecce968/importers/yum_importer/',\n",
       "   '_id': {'$oid': '5a8af4cbcc5d5e04529ad55e'},\n",
       "   '_ns': 'repo_importers',\n",
       "   'config': {'feed': 'https://repos.fedorapeople.org/pulp/pulp/fixtures/rpm-unsigned/'},\n",
       "   'id': 'yum_importer',\n",
       "   'importer_type_id': 'yum_importer',\n",
       "   'last_override_config': {},\n",
       "   'last_sync': None,\n",
       "   'last_updated': '2018-02-19T16:01:15Z',\n",
       "   'repo_id': '34713c16-827f-4d4b-a26c-04574ecce968',\n",
       "   'scratchpad': None}],\n",
       " 'last_unit_added': None,\n",
       " 'last_unit_removed': None,\n",
       " 'locally_stored_units': 0,\n",
       " 'notes': {'_repo-type': 'rpm-repo'},\n",
       " 'scratchpad': {},\n",
       " 'total_repository_units': 0}"
      ]
     },
     "execution_count": 23,
     "metadata": {},
     "output_type": "execute_result"
    }
   ],
   "source": [
    "repo"
   ]
  },
  {
   "cell_type": "markdown",
   "metadata": {},
   "source": [
    "## Client CLI\n",
    "\n",
    "A convenience object for working with a CLI.\n",
    "\n",
    "\n"
   ]
  },
  {
   "cell_type": "code",
   "execution_count": 26,
   "metadata": {},
   "outputs": [],
   "source": [
    "from pulp_smash import config, cli, utils"
   ]
  },
  {
   "cell_type": "code",
   "execution_count": 27,
   "metadata": {},
   "outputs": [],
   "source": [
    "cli_client = cli.Client(config.get_config())"
   ]
  },
  {
   "cell_type": "code",
   "execution_count": 28,
   "metadata": {},
   "outputs": [],
   "source": [
    "repo_id = utils.uuid4()"
   ]
  },
  {
   "cell_type": "raw",
   "metadata": {},
   "source": [
    "repo_id"
   ]
  },
  {
   "cell_type": "code",
   "execution_count": 29,
   "metadata": {},
   "outputs": [
    {
     "data": {
      "text/plain": [
       "CompletedProcess(args=['pulp-admin', 'rpm', 'repo', 'create', '--repo-id', 'b42932e6-f5fc-432e-a966-b761760f1c87'], returncode=0, stdout='\\x1b[0m\\x1b[92mSuccessfully created repository [b42932e6-f5fc-432e-a966-b761760f1c87]\\x1b[0m\\n\\n', stderr='')"
      ]
     },
     "execution_count": 29,
     "metadata": {},
     "output_type": "execute_result"
    }
   ],
   "source": [
    "cli_client.run('pulp-admin rpm repo create --repo-id {}'.format(repo_id).split())"
   ]
  },
  {
   "cell_type": "markdown",
   "metadata": {},
   "source": [
    "### Response Handlers\n",
    "\n",
    "A callback function. Each time cli_Client executes a command, the result is handed to this callback, and the callback's return value is handed to the user.\n",
    "\n",
    "Pulp-Smash ships with several response handlers. See:\n",
    "\n",
    "    pulp_smash.cli.code_handler\n",
    "    pulp_smash.cli.echo_handler\n",
    "   \n",
    "\n",
    "Default: **code_handler**"
   ]
  },
  {
   "cell_type": "markdown",
   "metadata": {},
   "source": [
    "### Local or SSH\n",
    "\n",
    "Pulp Smash compares the host name in its configuration file to the host name of the current system, and *that* is what tells it how to run commands.\n"
   ]
  },
  {
   "cell_type": "code",
   "execution_count": 30,
   "metadata": {},
   "outputs": [],
   "source": [
    "cli_client = cli.Client(config.get_config(), cli.echo_handler)"
   ]
  },
  {
   "cell_type": "code",
   "execution_count": 31,
   "metadata": {},
   "outputs": [],
   "source": [
    "repo_id = utils.uuid4()"
   ]
  },
  {
   "cell_type": "code",
   "execution_count": 32,
   "metadata": {},
   "outputs": [
    {
     "data": {
      "text/plain": [
       "CompletedProcess(args=['pulp-admin', 'rpm', 'repo', 'create', '--repo-id', '3a70f3b2-f576-4eb2-b29b-583427c93f6a'], returncode=0, stdout='\\x1b[0m\\x1b[92mSuccessfully created repository [3a70f3b2-f576-4eb2-b29b-583427c93f6a]\\x1b[0m\\n\\n', stderr='')"
      ]
     },
     "execution_count": 32,
     "metadata": {},
     "output_type": "execute_result"
    }
   ],
   "source": [
    "cli_client.run('pulp-admin rpm repo create --repo-id {}'.format(repo_id).split())"
   ]
  },
  {
   "cell_type": "markdown",
   "metadata": {},
   "source": [
    "### Extra documentation\n",
    "\n",
    "https://pulp-smash.readthedocs.io/en/latest/\n",
    "    \n",
    "    "
   ]
  },
  {
   "cell_type": "markdown",
   "metadata": {},
   "source": [
    "### How to contribute to Pulp-Smash?\n",
    "\n",
    "https://pulp-smash.readthedocs.io/en/latest/about.html#contributing\n"
   ]
  },
  {
   "cell_type": "markdown",
   "metadata": {},
   "source": [
    "### Is there something else that we should test?\n",
    "\n",
    "File a test case.\n",
    "\n",
    "https://github.com/PulpQE/pulp-smash/issues"
   ]
  },
  {
   "cell_type": "markdown",
   "metadata": {},
   "source": [
    "### Thank you."
   ]
  }
 ],
 "metadata": {
  "kernelspec": {
   "display_name": "Python 3",
   "language": "python",
   "name": "python3"
  },
  "language_info": {
   "codemirror_mode": {
    "name": "ipython",
    "version": 3
   },
   "file_extension": ".py",
   "mimetype": "text/x-python",
   "name": "python",
   "nbconvert_exporter": "python",
   "pygments_lexer": "ipython3",
   "version": "3.6.4"
  }
 },
 "nbformat": 4,
 "nbformat_minor": 2
}
